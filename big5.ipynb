{
 "cells": [
  {
   "cell_type": "code",
   "execution_count": 1,
   "id": "0cf16374",
   "metadata": {},
   "outputs": [],
   "source": [
    "import numpy as np\n",
    "import pandas"
   ]
  },
  {
   "cell_type": "code",
   "execution_count": 2,
   "id": "6ed278aa",
   "metadata": {},
   "outputs": [],
   "source": [
    "df = pandas.read_csv(\"data.csv\", sep=\"\\t\")"
   ]
  },
  {
   "cell_type": "code",
   "execution_count": 3,
   "id": "5aada3ad",
   "metadata": {},
   "outputs": [
    {
     "data": {
      "text/html": [
       "<div>\n",
       "<style scoped>\n",
       "    .dataframe tbody tr th:only-of-type {\n",
       "        vertical-align: middle;\n",
       "    }\n",
       "\n",
       "    .dataframe tbody tr th {\n",
       "        vertical-align: top;\n",
       "    }\n",
       "\n",
       "    .dataframe thead th {\n",
       "        text-align: right;\n",
       "    }\n",
       "</style>\n",
       "<table border=\"1\" class=\"dataframe\">\n",
       "  <thead>\n",
       "    <tr style=\"text-align: right;\">\n",
       "      <th></th>\n",
       "      <th>A1</th>\n",
       "      <th>A2</th>\n",
       "      <th>A3</th>\n",
       "      <th>A4</th>\n",
       "      <th>A5</th>\n",
       "      <th>A6</th>\n",
       "      <th>A7</th>\n",
       "      <th>A8</th>\n",
       "      <th>A9</th>\n",
       "      <th>A10</th>\n",
       "      <th>...</th>\n",
       "      <th>P7</th>\n",
       "      <th>P8</th>\n",
       "      <th>P9</th>\n",
       "      <th>P10</th>\n",
       "      <th>age</th>\n",
       "      <th>gender</th>\n",
       "      <th>accuracy</th>\n",
       "      <th>country</th>\n",
       "      <th>source</th>\n",
       "      <th>elapsed</th>\n",
       "    </tr>\n",
       "  </thead>\n",
       "  <tbody>\n",
       "    <tr>\n",
       "      <th>0</th>\n",
       "      <td>1</td>\n",
       "      <td>4</td>\n",
       "      <td>2</td>\n",
       "      <td>3</td>\n",
       "      <td>3</td>\n",
       "      <td>2</td>\n",
       "      <td>3</td>\n",
       "      <td>4</td>\n",
       "      <td>4</td>\n",
       "      <td>3</td>\n",
       "      <td>...</td>\n",
       "      <td>1</td>\n",
       "      <td>2</td>\n",
       "      <td>5</td>\n",
       "      <td>2</td>\n",
       "      <td>17</td>\n",
       "      <td>1</td>\n",
       "      <td>92</td>\n",
       "      <td>US</td>\n",
       "      <td>6</td>\n",
       "      <td>914</td>\n",
       "    </tr>\n",
       "    <tr>\n",
       "      <th>1</th>\n",
       "      <td>4</td>\n",
       "      <td>3</td>\n",
       "      <td>4</td>\n",
       "      <td>3</td>\n",
       "      <td>4</td>\n",
       "      <td>4</td>\n",
       "      <td>4</td>\n",
       "      <td>4</td>\n",
       "      <td>2</td>\n",
       "      <td>2</td>\n",
       "      <td>...</td>\n",
       "      <td>3</td>\n",
       "      <td>2</td>\n",
       "      <td>2</td>\n",
       "      <td>2</td>\n",
       "      <td>37</td>\n",
       "      <td>1</td>\n",
       "      <td>100</td>\n",
       "      <td>US</td>\n",
       "      <td>1</td>\n",
       "      <td>891</td>\n",
       "    </tr>\n",
       "    <tr>\n",
       "      <th>2</th>\n",
       "      <td>3</td>\n",
       "      <td>4</td>\n",
       "      <td>4</td>\n",
       "      <td>4</td>\n",
       "      <td>4</td>\n",
       "      <td>4</td>\n",
       "      <td>4</td>\n",
       "      <td>3</td>\n",
       "      <td>2</td>\n",
       "      <td>2</td>\n",
       "      <td>...</td>\n",
       "      <td>2</td>\n",
       "      <td>3</td>\n",
       "      <td>3</td>\n",
       "      <td>3</td>\n",
       "      <td>31</td>\n",
       "      <td>1</td>\n",
       "      <td>80</td>\n",
       "      <td>US</td>\n",
       "      <td>6</td>\n",
       "      <td>903</td>\n",
       "    </tr>\n",
       "  </tbody>\n",
       "</table>\n",
       "<p>3 rows × 169 columns</p>\n",
       "</div>"
      ],
      "text/plain": [
       "   A1  A2  A3  A4  A5  A6  A7  A8  A9  A10  ...  P7  P8  P9  P10  age  gender  \\\n",
       "0   1   4   2   3   3   2   3   4   4    3  ...   1   2   5    2   17       1   \n",
       "1   4   3   4   3   4   4   4   4   2    2  ...   3   2   2    2   37       1   \n",
       "2   3   4   4   4   4   4   4   3   2    2  ...   2   3   3    3   31       1   \n",
       "\n",
       "   accuracy  country  source  elapsed  \n",
       "0        92       US       6      914  \n",
       "1       100       US       1      891  \n",
       "2        80       US       6      903  \n",
       "\n",
       "[3 rows x 169 columns]"
      ]
     },
     "execution_count": 3,
     "metadata": {},
     "output_type": "execute_result"
    }
   ],
   "source": [
    "df.head(3)"
   ]
  },
  {
   "cell_type": "code",
   "execution_count": 30,
   "id": "23993811",
   "metadata": {},
   "outputs": [],
   "source": [
    "qs = df.loc[:, 'A1':'P10']\n",
    "df = df[qs.min(axis=1)!=0]\n",
    "qs = qs[qs.min(axis=1)!=0] # Eliminate any non-answers"
   ]
  },
  {
   "cell_type": "code",
   "execution_count": 5,
   "id": "6edb1e46",
   "metadata": {},
   "outputs": [],
   "source": [
    "cov = qs.cov()"
   ]
  },
  {
   "cell_type": "code",
   "execution_count": 6,
   "id": "fd17d438",
   "metadata": {},
   "outputs": [],
   "source": [
    "_w, _v = np.linalg.eig(cov)"
   ]
  },
  {
   "cell_type": "code",
   "execution_count": 108,
   "id": "5af94f38",
   "metadata": {},
   "outputs": [],
   "source": [
    "perm = _w.argsort()[::-1]\n",
    "w = _w[perm]\n",
    "v = _v.T[perm].T"
   ]
  },
  {
   "cell_type": "code",
   "execution_count": 8,
   "id": "8ea8797c",
   "metadata": {},
   "outputs": [
    {
     "data": {
      "text/plain": [
       "array([0.13384628, 0.06084986, 0.0586431 , 0.04416749, 0.03580473])"
      ]
     },
     "execution_count": 8,
     "metadata": {},
     "output_type": "execute_result"
    }
   ],
   "source": [
    "w_percent = w / w.sum()\n",
    "w_percent[:5]"
   ]
  },
  {
   "cell_type": "markdown",
   "id": "e0fe31fb",
   "metadata": {},
   "source": [
    "# 1st Component"
   ]
  },
  {
   "cell_type": "code",
   "execution_count": 9,
   "id": "ca3555e7",
   "metadata": {
    "scrolled": true
   },
   "outputs": [
    {
     "name": "stdout",
     "output_type": "stream",
     "text": [
      "G6 -0.1710307762544171\n",
      "G4 0.15991784192129826\n",
      "G7 -0.15731568421652797\n",
      "G1 0.15287759906599294\n",
      "G2 0.1469050519030956\n",
      "C8 -0.14530581459259667\n",
      "N1 -0.1441015982533742\n",
      "G5 0.1427224337622645\n",
      "G9 -0.14161250937591166\n",
      "K2 -0.14092498177314877\n"
     ]
    }
   ],
   "source": [
    "qnames = np.array(list(qs))\n",
    "#print(qnames[v[:,0].argsort()][:5])\n",
    "#print(qnames[v[:,0].argsort()[::-1]][:5])\n",
    "perm = np.abs(v[:,0]).argsort()[::-1]\n",
    "for i in perm[:10]:\n",
    "    print(qnames[i], v[i,0])"
   ]
  },
  {
   "cell_type": "markdown",
   "id": "d26839a8",
   "metadata": {},
   "source": [
    "The largest component corresponds most heavily to these questions, with a negative correlation with G6, G7, etc. and a positive correlation with G4, G1, etc.\n",
    "\n",
    "Looking at these questions (from codebook.html) it's clear this component is extroversion. Interestingly K2 (\"I'm hard to get to know\") shows up here."
   ]
  },
  {
   "cell_type": "code",
   "execution_count": 63,
   "id": "2942cd5a",
   "metadata": {},
   "outputs": [],
   "source": [
    "extroversion = v[:,0]"
   ]
  },
  {
   "cell_type": "markdown",
   "id": "003d463c",
   "metadata": {},
   "source": [
    "# 2nd Component"
   ]
  },
  {
   "cell_type": "code",
   "execution_count": 11,
   "id": "c8eb641e",
   "metadata": {},
   "outputs": [
    {
     "name": "stdout",
     "output_type": "stream",
     "text": [
      "E6 0.20597029063302022\n",
      "C6 0.17248713249472672\n",
      "P2 0.15388370916998245\n",
      "P1 0.1499493716309426\n",
      "E4 0.14950626719267315\n",
      "K3 -0.14766457914639436\n",
      "E2 0.14762705710617707\n",
      "L3 0.1440789512699911\n",
      "F8 0.14269529743078285\n",
      "F7 0.13801740245341954\n"
     ]
    }
   ],
   "source": [
    "qnames = np.array(list(qs))\n",
    "perm = np.abs(v[:,1]).argsort()[::-1]\n",
    "for i in perm[:10]:\n",
    "    print(qnames[i], v[i,1])"
   ]
  },
  {
   "cell_type": "markdown",
   "id": "db389128",
   "metadata": {},
   "source": [
    "The second component corresponds to a positive correlation with E6 (\"I act wild and crazy\"), C6 (\"I have frequent mood swings\"), and P2 (\"I get angry easily\"). There is only a single negative correlation within the top ten with K3 (\"I don't talk a lot\"). This top ten also interestingly features L3 (\"I am easily hurt\") and F8 (\"I use swear words\").\n",
    "\n",
    "This is likely neuroticism, which is described as a tendency towards negative emotions."
   ]
  },
  {
   "cell_type": "code",
   "execution_count": 64,
   "id": "91aaf3cc",
   "metadata": {},
   "outputs": [],
   "source": [
    "neuroticism = v[:,1]"
   ]
  },
  {
   "cell_type": "markdown",
   "id": "5998d08e",
   "metadata": {},
   "source": [
    "# 3rd Component"
   ]
  },
  {
   "cell_type": "code",
   "execution_count": 13,
   "id": "3480c9a9",
   "metadata": {},
   "outputs": [
    {
     "name": "stdout",
     "output_type": "stream",
     "text": [
      "B9 -0.15844769138772197\n",
      "M6 -0.15676948152848355\n",
      "M8 -0.15453372360128262\n",
      "F4 -0.15152242905694255\n",
      "H3 0.14540654422003166\n",
      "F3 -0.14366736488670773\n",
      "B13 -0.13734204886594867\n",
      "F7 0.1351027973652484\n",
      "J5 0.13471010518564172\n",
      "M10 -0.13457086222536624\n"
     ]
    }
   ],
   "source": [
    "qnames = np.array(list(qs))\n",
    "perm = np.abs(v[:,2]).argsort()[::-1]\n",
    "for i in perm[:10]:\n",
    "    print(qnames[i], v[i,2])"
   ]
  },
  {
   "cell_type": "markdown",
   "id": "ec239696",
   "metadata": {},
   "source": [
    "The third component corresponds to a negative correlation with B9 (\"I consider myself an average person\"), M6 (\"I avoid philosophical discussions\"), M8 (\"I am not interested in theoretical discussions\"), F4 (\"I respect authority\") and F3 (\"I believe in one true religion\"). It has a positive correlation to H3 (\"I read a lot\") and interestingly F7 (\"I break rules\") and J5 (\"I swim against the current\").\n",
    "\n",
    "This component is likely the opposite of agreeableness, with the side-effect of less agreeable people being interested in philosophical and theoretical discussions."
   ]
  },
  {
   "cell_type": "code",
   "execution_count": 65,
   "id": "b0af1c61",
   "metadata": {},
   "outputs": [],
   "source": [
    "agreeableness = -v[:,2]"
   ]
  },
  {
   "cell_type": "markdown",
   "id": "24fdb06c",
   "metadata": {},
   "source": [
    "# 4th Component"
   ]
  },
  {
   "cell_type": "code",
   "execution_count": 15,
   "id": "0f02c90f",
   "metadata": {},
   "outputs": [
    {
     "name": "stdout",
     "output_type": "stream",
     "text": [
      "H3 -0.1913235890706045\n",
      "H1 -0.18775715951136532\n",
      "H8 0.17390480567920055\n",
      "M1 -0.1728577489869305\n",
      "H5 -0.16264656276420256\n",
      "A3 -0.15826779096251334\n",
      "H6 -0.15189973498317477\n",
      "H2 -0.136395564206311\n",
      "L6 -0.13573872501601428\n",
      "P10 -0.13126368720766143\n"
     ]
    }
   ],
   "source": [
    "qnames = np.array(list(qs))\n",
    "perm = np.abs(v[:,3]).argsort()[::-1]\n",
    "for i in perm[:10]:\n",
    "    print(qnames[i], v[i,3])"
   ]
  },
  {
   "cell_type": "markdown",
   "id": "cebb50d7",
   "metadata": {},
   "source": [
    "This fourth component has negative correlations to H3 (\"I read a lot\"), H1 (\"I like to read\"), M1 (\"I believe in the importance of art\"), H5 (\"I cry during movies\"), and A3 (\"I feel others' emotions\"), along with a positive correlation to H8 (\"I do not like poetry\").\n",
    "\n",
    "This component is the opposite of openness, described as imagination and feelings."
   ]
  },
  {
   "cell_type": "code",
   "execution_count": 66,
   "id": "97f42d3d",
   "metadata": {},
   "outputs": [],
   "source": [
    "openness = -v[:,3]"
   ]
  },
  {
   "cell_type": "markdown",
   "id": "c89ebecb",
   "metadata": {},
   "source": [
    "# 5th Component"
   ]
  },
  {
   "cell_type": "code",
   "execution_count": 17,
   "id": "ee03ea4c",
   "metadata": {},
   "outputs": [
    {
     "name": "stdout",
     "output_type": "stream",
     "text": [
      "O4 0.19886019586754983\n",
      "O7 -0.1972595863771573\n",
      "O6 -0.19484257306190908\n",
      "O8 -0.18947714203430108\n",
      "O2 0.18536951186932799\n",
      "O3 0.1798213532495291\n",
      "D1 0.17607751440675248\n",
      "D2 0.17075678421086615\n",
      "D5 0.1691971451913424\n",
      "O1 0.1691548368791817\n"
     ]
    }
   ],
   "source": [
    "qnames = np.array(list(qs))\n",
    "perm = np.abs(v[:,4]).argsort()[::-1]\n",
    "for i in perm[:10]:\n",
    "    print(qnames[i], v[i,4])"
   ]
  },
  {
   "cell_type": "markdown",
   "id": "b1727e59",
   "metadata": {},
   "source": [
    "This component correlates with O4 (\"I continue until everything is perfect\") and O2 (\"I get chores done right away\"), and has a negative correlation with O7 (\"I am not bothered by disorder\"), O6 (\"I am not bothered by messy people\"), and O8 (\"I leave a mess in my room\").\n",
    "\n",
    "This component very clearly has to do with order, and so fits well with conscientiousness, described as hardworking, dependable, and organized."
   ]
  },
  {
   "cell_type": "code",
   "execution_count": 67,
   "id": "fa422e9e",
   "metadata": {},
   "outputs": [],
   "source": [
    "conscientiousness = v[:,4]"
   ]
  },
  {
   "cell_type": "markdown",
   "id": "e53831f2",
   "metadata": {},
   "source": [
    "# Feature Vector"
   ]
  },
  {
   "cell_type": "code",
   "execution_count": 68,
   "id": "14258fc3",
   "metadata": {},
   "outputs": [],
   "source": [
    "feat = np.array([extroversion, neuroticism, agreeableness, openness, conscientiousness])"
   ]
  },
  {
   "cell_type": "code",
   "execution_count": 69,
   "id": "fb0a86df",
   "metadata": {},
   "outputs": [
    {
     "data": {
      "text/html": [
       "<div>\n",
       "<style scoped>\n",
       "    .dataframe tbody tr th:only-of-type {\n",
       "        vertical-align: middle;\n",
       "    }\n",
       "\n",
       "    .dataframe tbody tr th {\n",
       "        vertical-align: top;\n",
       "    }\n",
       "\n",
       "    .dataframe thead th {\n",
       "        text-align: right;\n",
       "    }\n",
       "</style>\n",
       "<table border=\"1\" class=\"dataframe\">\n",
       "  <thead>\n",
       "    <tr style=\"text-align: right;\">\n",
       "      <th></th>\n",
       "      <th>extroversion</th>\n",
       "      <th>neuroticism</th>\n",
       "      <th>agreeableness</th>\n",
       "      <th>openness</th>\n",
       "      <th>conscientiousness</th>\n",
       "      <th>gender</th>\n",
       "    </tr>\n",
       "  </thead>\n",
       "  <tbody>\n",
       "    <tr>\n",
       "      <th>0</th>\n",
       "      <td>-5.810965</td>\n",
       "      <td>17.387918</td>\n",
       "      <td>-6.584212</td>\n",
       "      <td>8.200761</td>\n",
       "      <td>12.721462</td>\n",
       "      <td>1</td>\n",
       "    </tr>\n",
       "    <tr>\n",
       "      <th>1</th>\n",
       "      <td>-5.335986</td>\n",
       "      <td>14.908187</td>\n",
       "      <td>-3.375977</td>\n",
       "      <td>9.735851</td>\n",
       "      <td>13.009838</td>\n",
       "      <td>1</td>\n",
       "    </tr>\n",
       "    <tr>\n",
       "      <th>2</th>\n",
       "      <td>-4.347866</td>\n",
       "      <td>15.803447</td>\n",
       "      <td>-3.161133</td>\n",
       "      <td>9.738800</td>\n",
       "      <td>6.819883</td>\n",
       "      <td>1</td>\n",
       "    </tr>\n",
       "    <tr>\n",
       "      <th>3</th>\n",
       "      <td>-0.559511</td>\n",
       "      <td>16.279643</td>\n",
       "      <td>-2.909878</td>\n",
       "      <td>9.519738</td>\n",
       "      <td>10.771242</td>\n",
       "      <td>2</td>\n",
       "    </tr>\n",
       "    <tr>\n",
       "      <th>4</th>\n",
       "      <td>-3.053900</td>\n",
       "      <td>12.140540</td>\n",
       "      <td>-0.499046</td>\n",
       "      <td>13.640653</td>\n",
       "      <td>13.020681</td>\n",
       "      <td>1</td>\n",
       "    </tr>\n",
       "    <tr>\n",
       "      <th>...</th>\n",
       "      <td>...</td>\n",
       "      <td>...</td>\n",
       "      <td>...</td>\n",
       "      <td>...</td>\n",
       "      <td>...</td>\n",
       "      <td>...</td>\n",
       "    </tr>\n",
       "    <tr>\n",
       "      <th>35376</th>\n",
       "      <td>-4.208740</td>\n",
       "      <td>14.418803</td>\n",
       "      <td>0.621966</td>\n",
       "      <td>12.906550</td>\n",
       "      <td>8.599221</td>\n",
       "      <td>2</td>\n",
       "    </tr>\n",
       "    <tr>\n",
       "      <th>35377</th>\n",
       "      <td>1.506883</td>\n",
       "      <td>13.596393</td>\n",
       "      <td>-4.003664</td>\n",
       "      <td>12.188320</td>\n",
       "      <td>15.005906</td>\n",
       "      <td>2</td>\n",
       "    </tr>\n",
       "    <tr>\n",
       "      <th>35378</th>\n",
       "      <td>-1.044123</td>\n",
       "      <td>4.227533</td>\n",
       "      <td>0.771741</td>\n",
       "      <td>1.526349</td>\n",
       "      <td>3.157865</td>\n",
       "      <td>1</td>\n",
       "    </tr>\n",
       "    <tr>\n",
       "      <th>35379</th>\n",
       "      <td>-2.096298</td>\n",
       "      <td>10.330194</td>\n",
       "      <td>1.724378</td>\n",
       "      <td>10.238960</td>\n",
       "      <td>11.458184</td>\n",
       "      <td>2</td>\n",
       "    </tr>\n",
       "    <tr>\n",
       "      <th>35380</th>\n",
       "      <td>3.809589</td>\n",
       "      <td>15.130324</td>\n",
       "      <td>-7.689289</td>\n",
       "      <td>5.275564</td>\n",
       "      <td>8.404956</td>\n",
       "      <td>1</td>\n",
       "    </tr>\n",
       "  </tbody>\n",
       "</table>\n",
       "<p>35381 rows × 6 columns</p>\n",
       "</div>"
      ],
      "text/plain": [
       "       extroversion  neuroticism  agreeableness   openness  conscientiousness  \\\n",
       "0         -5.810965    17.387918      -6.584212   8.200761          12.721462   \n",
       "1         -5.335986    14.908187      -3.375977   9.735851          13.009838   \n",
       "2         -4.347866    15.803447      -3.161133   9.738800           6.819883   \n",
       "3         -0.559511    16.279643      -2.909878   9.519738          10.771242   \n",
       "4         -3.053900    12.140540      -0.499046  13.640653          13.020681   \n",
       "...             ...          ...            ...        ...                ...   \n",
       "35376     -4.208740    14.418803       0.621966  12.906550           8.599221   \n",
       "35377      1.506883    13.596393      -4.003664  12.188320          15.005906   \n",
       "35378     -1.044123     4.227533       0.771741   1.526349           3.157865   \n",
       "35379     -2.096298    10.330194       1.724378  10.238960          11.458184   \n",
       "35380      3.809589    15.130324      -7.689289   5.275564           8.404956   \n",
       "\n",
       "       gender  \n",
       "0           1  \n",
       "1           1  \n",
       "2           1  \n",
       "3           2  \n",
       "4           1  \n",
       "...       ...  \n",
       "35376       2  \n",
       "35377       2  \n",
       "35378       1  \n",
       "35379       2  \n",
       "35380       1  \n",
       "\n",
       "[35381 rows x 6 columns]"
      ]
     },
     "execution_count": 69,
     "metadata": {},
     "output_type": "execute_result"
    }
   ],
   "source": [
    "features = pandas.DataFrame(np.dot(feat, qs.T).T, \n",
    "                            columns=['extroversion', 'neuroticism', 'agreeableness', 'openness', 'conscientiousness'])\n",
    "features['gender'] = df.reset_index()['gender']\n",
    "features"
   ]
  },
  {
   "cell_type": "code",
   "execution_count": 70,
   "id": "7c6f0a99",
   "metadata": {},
   "outputs": [
    {
     "data": {
      "text/html": [
       "<div>\n",
       "<style scoped>\n",
       "    .dataframe tbody tr th:only-of-type {\n",
       "        vertical-align: middle;\n",
       "    }\n",
       "\n",
       "    .dataframe tbody tr th {\n",
       "        vertical-align: top;\n",
       "    }\n",
       "\n",
       "    .dataframe thead th {\n",
       "        text-align: right;\n",
       "    }\n",
       "</style>\n",
       "<table border=\"1\" class=\"dataframe\">\n",
       "  <thead>\n",
       "    <tr style=\"text-align: right;\">\n",
       "      <th></th>\n",
       "      <th>extroversion</th>\n",
       "      <th>neuroticism</th>\n",
       "      <th>agreeableness</th>\n",
       "      <th>openness</th>\n",
       "      <th>conscientiousness</th>\n",
       "      <th>gender</th>\n",
       "    </tr>\n",
       "  </thead>\n",
       "  <tbody>\n",
       "    <tr>\n",
       "      <th>count</th>\n",
       "      <td>35381.000000</td>\n",
       "      <td>35381.000000</td>\n",
       "      <td>35381.000000</td>\n",
       "      <td>35381.000000</td>\n",
       "      <td>35381.000000</td>\n",
       "      <td>35381.000000</td>\n",
       "    </tr>\n",
       "    <tr>\n",
       "      <th>mean</th>\n",
       "      <td>-1.457474</td>\n",
       "      <td>13.683084</td>\n",
       "      <td>-0.874055</td>\n",
       "      <td>8.861748</td>\n",
       "      <td>11.308302</td>\n",
       "      <td>1.604816</td>\n",
       "    </tr>\n",
       "    <tr>\n",
       "      <th>std</th>\n",
       "      <td>5.121733</td>\n",
       "      <td>3.453374</td>\n",
       "      <td>3.390176</td>\n",
       "      <td>2.942152</td>\n",
       "      <td>2.649012</td>\n",
       "      <td>0.508952</td>\n",
       "    </tr>\n",
       "    <tr>\n",
       "      <th>min</th>\n",
       "      <td>-20.431932</td>\n",
       "      <td>-6.147395</td>\n",
       "      <td>-16.080931</td>\n",
       "      <td>-8.018629</td>\n",
       "      <td>-0.112546</td>\n",
       "      <td>0.000000</td>\n",
       "    </tr>\n",
       "    <tr>\n",
       "      <th>25%</th>\n",
       "      <td>-4.852449</td>\n",
       "      <td>11.349467</td>\n",
       "      <td>-3.016739</td>\n",
       "      <td>7.034918</td>\n",
       "      <td>9.591913</td>\n",
       "      <td>1.000000</td>\n",
       "    </tr>\n",
       "    <tr>\n",
       "      <th>50%</th>\n",
       "      <td>-1.272340</td>\n",
       "      <td>13.621938</td>\n",
       "      <td>-0.626365</td>\n",
       "      <td>8.914878</td>\n",
       "      <td>11.298162</td>\n",
       "      <td>2.000000</td>\n",
       "    </tr>\n",
       "    <tr>\n",
       "      <th>75%</th>\n",
       "      <td>2.146226</td>\n",
       "      <td>15.924529</td>\n",
       "      <td>1.523212</td>\n",
       "      <td>10.813196</td>\n",
       "      <td>12.976326</td>\n",
       "      <td>2.000000</td>\n",
       "    </tr>\n",
       "    <tr>\n",
       "      <th>max</th>\n",
       "      <td>16.205577</td>\n",
       "      <td>28.165765</td>\n",
       "      <td>11.773559</td>\n",
       "      <td>20.292218</td>\n",
       "      <td>23.093379</td>\n",
       "      <td>3.000000</td>\n",
       "    </tr>\n",
       "  </tbody>\n",
       "</table>\n",
       "</div>"
      ],
      "text/plain": [
       "       extroversion   neuroticism  agreeableness      openness  \\\n",
       "count  35381.000000  35381.000000   35381.000000  35381.000000   \n",
       "mean      -1.457474     13.683084      -0.874055      8.861748   \n",
       "std        5.121733      3.453374       3.390176      2.942152   \n",
       "min      -20.431932     -6.147395     -16.080931     -8.018629   \n",
       "25%       -4.852449     11.349467      -3.016739      7.034918   \n",
       "50%       -1.272340     13.621938      -0.626365      8.914878   \n",
       "75%        2.146226     15.924529       1.523212     10.813196   \n",
       "max       16.205577     28.165765      11.773559     20.292218   \n",
       "\n",
       "       conscientiousness        gender  \n",
       "count       35381.000000  35381.000000  \n",
       "mean           11.308302      1.604816  \n",
       "std             2.649012      0.508952  \n",
       "min            -0.112546      0.000000  \n",
       "25%             9.591913      1.000000  \n",
       "50%            11.298162      2.000000  \n",
       "75%            12.976326      2.000000  \n",
       "max            23.093379      3.000000  "
      ]
     },
     "execution_count": 70,
     "metadata": {},
     "output_type": "execute_result"
    }
   ],
   "source": [
    "features.describe()"
   ]
  },
  {
   "cell_type": "code",
   "execution_count": 71,
   "id": "d7878f4d",
   "metadata": {},
   "outputs": [
    {
     "data": {
      "text/html": [
       "<div>\n",
       "<style scoped>\n",
       "    .dataframe tbody tr th:only-of-type {\n",
       "        vertical-align: middle;\n",
       "    }\n",
       "\n",
       "    .dataframe tbody tr th {\n",
       "        vertical-align: top;\n",
       "    }\n",
       "\n",
       "    .dataframe thead th {\n",
       "        text-align: right;\n",
       "    }\n",
       "</style>\n",
       "<table border=\"1\" class=\"dataframe\">\n",
       "  <thead>\n",
       "    <tr style=\"text-align: right;\">\n",
       "      <th></th>\n",
       "      <th>extroversion</th>\n",
       "      <th>neuroticism</th>\n",
       "      <th>agreeableness</th>\n",
       "      <th>openness</th>\n",
       "      <th>conscientiousness</th>\n",
       "      <th>gender</th>\n",
       "    </tr>\n",
       "  </thead>\n",
       "  <tbody>\n",
       "    <tr>\n",
       "      <th>count</th>\n",
       "      <td>13856.000000</td>\n",
       "      <td>13856.000000</td>\n",
       "      <td>13856.000000</td>\n",
       "      <td>13856.000000</td>\n",
       "      <td>13856.000000</td>\n",
       "      <td>13856.0</td>\n",
       "    </tr>\n",
       "    <tr>\n",
       "      <th>mean</th>\n",
       "      <td>-1.088094</td>\n",
       "      <td>13.138299</td>\n",
       "      <td>-1.709847</td>\n",
       "      <td>8.018905</td>\n",
       "      <td>11.092042</td>\n",
       "      <td>1.0</td>\n",
       "    </tr>\n",
       "    <tr>\n",
       "      <th>std</th>\n",
       "      <td>5.243066</td>\n",
       "      <td>3.494439</td>\n",
       "      <td>3.397955</td>\n",
       "      <td>2.920588</td>\n",
       "      <td>2.628629</td>\n",
       "      <td>0.0</td>\n",
       "    </tr>\n",
       "    <tr>\n",
       "      <th>min</th>\n",
       "      <td>-20.431932</td>\n",
       "      <td>-6.147395</td>\n",
       "      <td>-16.080931</td>\n",
       "      <td>-8.018629</td>\n",
       "      <td>-0.058420</td>\n",
       "      <td>1.0</td>\n",
       "    </tr>\n",
       "    <tr>\n",
       "      <th>25%</th>\n",
       "      <td>-4.573392</td>\n",
       "      <td>10.806991</td>\n",
       "      <td>-3.867685</td>\n",
       "      <td>6.257138</td>\n",
       "      <td>9.412942</td>\n",
       "      <td>1.0</td>\n",
       "    </tr>\n",
       "    <tr>\n",
       "      <th>50%</th>\n",
       "      <td>-0.906123</td>\n",
       "      <td>13.077194</td>\n",
       "      <td>-1.422303</td>\n",
       "      <td>8.094658</td>\n",
       "      <td>11.117498</td>\n",
       "      <td>1.0</td>\n",
       "    </tr>\n",
       "    <tr>\n",
       "      <th>75%</th>\n",
       "      <td>2.575945</td>\n",
       "      <td>15.378169</td>\n",
       "      <td>0.722540</td>\n",
       "      <td>9.919788</td>\n",
       "      <td>12.737638</td>\n",
       "      <td>1.0</td>\n",
       "    </tr>\n",
       "    <tr>\n",
       "      <th>max</th>\n",
       "      <td>15.676430</td>\n",
       "      <td>28.165765</td>\n",
       "      <td>11.773559</td>\n",
       "      <td>20.292218</td>\n",
       "      <td>23.093379</td>\n",
       "      <td>1.0</td>\n",
       "    </tr>\n",
       "  </tbody>\n",
       "</table>\n",
       "</div>"
      ],
      "text/plain": [
       "       extroversion   neuroticism  agreeableness      openness  \\\n",
       "count  13856.000000  13856.000000   13856.000000  13856.000000   \n",
       "mean      -1.088094     13.138299      -1.709847      8.018905   \n",
       "std        5.243066      3.494439       3.397955      2.920588   \n",
       "min      -20.431932     -6.147395     -16.080931     -8.018629   \n",
       "25%       -4.573392     10.806991      -3.867685      6.257138   \n",
       "50%       -0.906123     13.077194      -1.422303      8.094658   \n",
       "75%        2.575945     15.378169       0.722540      9.919788   \n",
       "max       15.676430     28.165765      11.773559     20.292218   \n",
       "\n",
       "       conscientiousness   gender  \n",
       "count       13856.000000  13856.0  \n",
       "mean           11.092042      1.0  \n",
       "std             2.628629      0.0  \n",
       "min            -0.058420      1.0  \n",
       "25%             9.412942      1.0  \n",
       "50%            11.117498      1.0  \n",
       "75%            12.737638      1.0  \n",
       "max            23.093379      1.0  "
      ]
     },
     "execution_count": 71,
     "metadata": {},
     "output_type": "execute_result"
    }
   ],
   "source": [
    "features[features['gender'] == 1].describe() # male"
   ]
  },
  {
   "cell_type": "code",
   "execution_count": 72,
   "id": "1586395c",
   "metadata": {},
   "outputs": [
    {
     "data": {
      "text/html": [
       "<div>\n",
       "<style scoped>\n",
       "    .dataframe tbody tr th:only-of-type {\n",
       "        vertical-align: middle;\n",
       "    }\n",
       "\n",
       "    .dataframe tbody tr th {\n",
       "        vertical-align: top;\n",
       "    }\n",
       "\n",
       "    .dataframe thead th {\n",
       "        text-align: right;\n",
       "    }\n",
       "</style>\n",
       "<table border=\"1\" class=\"dataframe\">\n",
       "  <thead>\n",
       "    <tr style=\"text-align: right;\">\n",
       "      <th></th>\n",
       "      <th>extroversion</th>\n",
       "      <th>neuroticism</th>\n",
       "      <th>agreeableness</th>\n",
       "      <th>openness</th>\n",
       "      <th>conscientiousness</th>\n",
       "      <th>gender</th>\n",
       "    </tr>\n",
       "  </thead>\n",
       "  <tbody>\n",
       "    <tr>\n",
       "      <th>count</th>\n",
       "      <td>21171.000000</td>\n",
       "      <td>21171.000000</td>\n",
       "      <td>21171.000000</td>\n",
       "      <td>21171.000000</td>\n",
       "      <td>21171.000000</td>\n",
       "      <td>21171.0</td>\n",
       "    </tr>\n",
       "    <tr>\n",
       "      <th>mean</th>\n",
       "      <td>-1.658066</td>\n",
       "      <td>14.033483</td>\n",
       "      <td>-0.309599</td>\n",
       "      <td>9.406477</td>\n",
       "      <td>11.455182</td>\n",
       "      <td>2.0</td>\n",
       "    </tr>\n",
       "    <tr>\n",
       "      <th>std</th>\n",
       "      <td>5.009287</td>\n",
       "      <td>3.379001</td>\n",
       "      <td>3.260637</td>\n",
       "      <td>2.821091</td>\n",
       "      <td>2.649965</td>\n",
       "      <td>0.0</td>\n",
       "    </tr>\n",
       "    <tr>\n",
       "      <th>min</th>\n",
       "      <td>-20.071106</td>\n",
       "      <td>-0.525588</td>\n",
       "      <td>-14.932630</td>\n",
       "      <td>-4.854296</td>\n",
       "      <td>-0.112546</td>\n",
       "      <td>2.0</td>\n",
       "    </tr>\n",
       "    <tr>\n",
       "      <th>25%</th>\n",
       "      <td>-4.962742</td>\n",
       "      <td>11.747686</td>\n",
       "      <td>-2.358306</td>\n",
       "      <td>7.621714</td>\n",
       "      <td>9.728392</td>\n",
       "      <td>2.0</td>\n",
       "    </tr>\n",
       "    <tr>\n",
       "      <th>50%</th>\n",
       "      <td>-1.465694</td>\n",
       "      <td>13.971743</td>\n",
       "      <td>-0.084048</td>\n",
       "      <td>9.458005</td>\n",
       "      <td>11.435966</td>\n",
       "      <td>2.0</td>\n",
       "    </tr>\n",
       "    <tr>\n",
       "      <th>75%</th>\n",
       "      <td>1.897796</td>\n",
       "      <td>16.224033</td>\n",
       "      <td>1.978201</td>\n",
       "      <td>11.277730</td>\n",
       "      <td>13.113404</td>\n",
       "      <td>2.0</td>\n",
       "    </tr>\n",
       "    <tr>\n",
       "      <th>max</th>\n",
       "      <td>16.205577</td>\n",
       "      <td>27.437295</td>\n",
       "      <td>11.262948</td>\n",
       "      <td>19.650598</td>\n",
       "      <td>22.799967</td>\n",
       "      <td>2.0</td>\n",
       "    </tr>\n",
       "  </tbody>\n",
       "</table>\n",
       "</div>"
      ],
      "text/plain": [
       "       extroversion   neuroticism  agreeableness      openness  \\\n",
       "count  21171.000000  21171.000000   21171.000000  21171.000000   \n",
       "mean      -1.658066     14.033483      -0.309599      9.406477   \n",
       "std        5.009287      3.379001       3.260637      2.821091   \n",
       "min      -20.071106     -0.525588     -14.932630     -4.854296   \n",
       "25%       -4.962742     11.747686      -2.358306      7.621714   \n",
       "50%       -1.465694     13.971743      -0.084048      9.458005   \n",
       "75%        1.897796     16.224033       1.978201     11.277730   \n",
       "max       16.205577     27.437295      11.262948     19.650598   \n",
       "\n",
       "       conscientiousness   gender  \n",
       "count       21171.000000  21171.0  \n",
       "mean           11.455182      2.0  \n",
       "std             2.649965      0.0  \n",
       "min            -0.112546      2.0  \n",
       "25%             9.728392      2.0  \n",
       "50%            11.435966      2.0  \n",
       "75%            13.113404      2.0  \n",
       "max            22.799967      2.0  "
      ]
     },
     "execution_count": 72,
     "metadata": {},
     "output_type": "execute_result"
    }
   ],
   "source": [
    "features[features['gender'] == 2].describe() # female"
   ]
  },
  {
   "cell_type": "code",
   "execution_count": 73,
   "id": "82b494b0",
   "metadata": {},
   "outputs": [
    {
     "data": {
      "text/plain": [
       "extroversion        -0.111285\n",
       "neuroticism          0.259220\n",
       "agreeableness        0.413031\n",
       "openness             0.471618\n",
       "conscientiousness    0.137085\n",
       "dtype: float64"
      ]
     },
     "execution_count": 73,
     "metadata": {},
     "output_type": "execute_result"
    }
   ],
   "source": [
    "gender_diff = ((features[features['gender'] == 2].mean() - features[features['gender'] == 1].mean()) / features.std())[:5]\n",
    "gender_diff"
   ]
  },
  {
   "cell_type": "code",
   "execution_count": 102,
   "id": "1f96dd7e",
   "metadata": {},
   "outputs": [
    {
     "data": {
      "image/png": "[encoded data removed]",
      "text/plain": [
       "<Figure size 864x576 with 1 Axes>"
      ]
     },
     "metadata": {
      "needs_background": "light"
     },
     "output_type": "display_data"
    }
   ],
   "source": [
    "ax = features[features['gender'] == 1].hist(column=\"openness\", bins=100, histtype='step', figsize=(12,8))\n",
    "ax = features[features['gender'] == 2].hist(column=\"openness\", ax=ax, bins=100, histtype='step')"
   ]
  },
  {
   "cell_type": "code",
   "execution_count": null,
   "id": "b1a3a2d6",
   "metadata": {},
   "outputs": [],
   "source": []
  }
 ],
 "metadata": {
  "kernelspec": {
   "display_name": "Python 3 (ipykernel)",
   "language": "python",
   "name": "python3"
  },
  "language_info": {
   "codemirror_mode": {
    "name": "ipython",
    "version": 3
   },
   "file_extension": ".py",
   "mimetype": "text/x-python",
   "name": "python",
   "nbconvert_exporter": "python",
   "pygments_lexer": "ipython3",
   "version": "3.9.5"
  }
 },
 "nbformat": 4,
 "nbformat_minor": 5
}
